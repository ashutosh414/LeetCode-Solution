{
 "cells": [
  {
   "cell_type": "code",
   "execution_count": null,
   "metadata": {},
   "outputs": [],
   "source": [
    "https://www.hackerrank.com/challenges/python-lists/problem?isFullScreen=true\n",
    "\n",
    "if __name__ == '__main__':\n",
    "    N = int(input())\n",
    "    data_list=[]\n",
    "    for i in range(0,N):\n",
    "        data=input().strip().split(' ')\n",
    "        if data[0] == 'append':\n",
    "            data_list.append(int(data[1]))\n",
    "        elif data[0]=='remove':\n",
    "            data_list.remove(int(data[1]))\n",
    "        elif data[0]=='sort':\n",
    "            data_list.sort()\n",
    "        elif data[0]=='print':\n",
    "            # data_list1=list(map(int,data_list))\n",
    "            print(data_list)\n",
    "        elif data[0]=='reverse':\n",
    "            data_list.reverse()\n",
    "        elif data[0]=='pop':\n",
    "            data_list.pop()\n",
    "        elif data[0]=='insert':\n",
    "            data_list.insert(int(data[1]),int(data[2]))\n",
    "        \n",
    "        "
   ]
  },
  {
   "cell_type": "code",
   "execution_count": 5,
   "metadata": {},
   "outputs": [
    {
     "name": "stdout",
     "output_type": "stream",
     "text": [
      "Hello World\n"
     ]
    }
   ],
   "source": [
    "s='hello world'\n",
    "\n",
    "capi=' '.join(list(map(str.capitalize,s.split(' '))))\n",
    "print(capi)"
   ]
  },
  {
   "cell_type": "code",
   "execution_count": null,
   "metadata": {},
   "outputs": [],
   "source": []
  }
 ],
 "metadata": {
  "kernelspec": {
   "display_name": "Python 3",
   "language": "python",
   "name": "python3"
  },
  "language_info": {
   "codemirror_mode": {
    "name": "ipython",
    "version": 3
   },
   "file_extension": ".py",
   "mimetype": "text/x-python",
   "name": "python",
   "nbconvert_exporter": "python",
   "pygments_lexer": "ipython3",
   "version": "3.13.1"
  }
 },
 "nbformat": 4,
 "nbformat_minor": 2
}
