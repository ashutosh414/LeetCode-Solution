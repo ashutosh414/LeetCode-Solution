{
 "cells": [
  {
   "cell_type": "code",
   "execution_count": 2,
   "metadata": {},
   "outputs": [
    {
     "name": "stdout",
     "output_type": "stream",
     "text": [
      "Current date and time: 2025-01-21 23:24:21.287125\n"
     ]
    }
   ],
   "source": []
  },
  {
   "cell_type": "code",
   "execution_count": 5,
   "metadata": {},
   "outputs": [
    {
     "name": "stdout",
     "output_type": "stream",
     "text": [
      "True\n"
     ]
    }
   ],
   "source": [
    "# 342. Power of Four\n",
    "# Current date and time: 2025-01-21 23:24:21.287125\n",
    "\n",
    "class Solution:\n",
    "    def isPowerOfFour(self, n: int) -> bool:\n",
    "        copy_n=n\n",
    "        flag=0\n",
    "        if n<1:\n",
    "            flag=1\n",
    "        while(copy_n>1):\n",
    "            if copy_n%4==0:\n",
    "                copy_n/=4\n",
    "            else:\n",
    "                flag=1\n",
    "                break\n",
    "        if (flag):\n",
    "            return False\n",
    "        else:\n",
    "            return True\n",
    "\n",
    "# ----------------------------example----------------------\n",
    "\n",
    "# s=Solution()\n",
    "# print(s.isPowerOfFour(16))"
   ]
  },
  {
   "cell_type": "code",
   "execution_count": null,
   "metadata": {
    "vscode": {
     "languageId": "sql"
    }
   },
   "outputs": [],
   "source": [
    "-- # 1211. Queries Quality and Percentage\n",
    "-- Current date and time: 2025-01-22 00:13:17.483333\n",
    "/* Write your T-SQL query statement below */\n",
    "\n",
    "select query_name,\n",
    "round(avg(rating*1.00/position),2) as quality,\n",
    "round(sum(iif(rating<3,1.00,0))*100/count(*),2) as poor_query_percentage\n",
    "from Queries\n",
    "group by query_name;\n",
    "\n",
    "\n",
    "/*solution 2*/\n",
    "/* Write your T-SQL query statement below */\n",
    "\n",
    "select query_name,\n",
    "round(avg(rating*1.00/position),2) as quality,\n",
    "round(sum(case when rating<3 then 1.00 else 0 end)*100/count(*),2) as poor_query_percentage\n",
    "from Queries\n",
    "group by query_name;\n",
    "\n"
   ]
  },
  {
   "cell_type": "code",
   "execution_count": 6,
   "metadata": {},
   "outputs": [
    {
     "name": "stdout",
     "output_type": "stream",
     "text": [
      "Current date and time: 2025-01-22 00:13:17.483333\n"
     ]
    }
   ],
   "source": [
    "import datetime\n",
    "\n",
    "# Get current date and time\n",
    "current_datetime = datetime.datetime.now()\n",
    "\n",
    "print(\"Current date and time:\", current_datetime)"
   ]
  }
 ],
 "metadata": {
  "kernelspec": {
   "display_name": "Python 3",
   "language": "python",
   "name": "python3"
  },
  "language_info": {
   "codemirror_mode": {
    "name": "ipython",
    "version": 3
   },
   "file_extension": ".py",
   "mimetype": "text/x-python",
   "name": "python",
   "nbconvert_exporter": "python",
   "pygments_lexer": "ipython3",
   "version": "3.13.1"
  }
 },
 "nbformat": 4,
 "nbformat_minor": 2
}
