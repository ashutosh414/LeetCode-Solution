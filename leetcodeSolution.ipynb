{
 "cells": [
  {
   "cell_type": "code",
   "execution_count": 2,
   "metadata": {},
   "outputs": [
    {
     "name": "stdout",
     "output_type": "stream",
     "text": [
      "Current date and time: 2025-01-21 23:24:21.287125\n"
     ]
    }
   ],
   "source": []
  },
  {
   "cell_type": "code",
   "execution_count": 5,
   "metadata": {},
   "outputs": [
    {
     "name": "stdout",
     "output_type": "stream",
     "text": [
      "True\n"
     ]
    }
   ],
   "source": [
    "# 342. Power of Four\n",
    "# Current date and time: 2025-01-21 23:24:21.287125\n",
    "\n",
    "class Solution:\n",
    "    def isPowerOfFour(self, n: int) -> bool:\n",
    "        copy_n=n\n",
    "        flag=0\n",
    "        if n<1:\n",
    "            flag=1\n",
    "        while(copy_n>1):\n",
    "            if copy_n%4==0:\n",
    "                copy_n/=4\n",
    "            else:\n",
    "                flag=1\n",
    "                break\n",
    "        if (flag):\n",
    "            return False\n",
    "        else:\n",
    "            return True\n",
    "\n",
    "# ----------------------------example----------------------\n",
    "\n",
    "# s=Solution()\n",
    "# print(s.isPowerOfFour(16))"
   ]
  },
  {
   "cell_type": "code",
   "execution_count": null,
   "metadata": {
    "vscode": {
     "languageId": "sql"
    }
   },
   "outputs": [],
   "source": [
    "-- # 1211. Queries Quality and Percentage\n",
    "-- Current date and time: 2025-01-22 00:13:17.483333\n",
    "/* Write your T-SQL query statement below */\n",
    "\n",
    "select query_name,\n",
    "round(avg(rating*1.00/position),2) as quality,\n",
    "round(sum(iif(rating<3,1.00,0))*100/count(*),2) as poor_query_percentage\n",
    "from Queries\n",
    "group by query_name;\n",
    "\n",
    "\n",
    "/*solution 2*/\n",
    "/* Write your T-SQL query statement below */\n",
    "\n",
    "select query_name,\n",
    "round(avg(rating*1.00/position),2) as quality,\n",
    "round(sum(case when rating<3 then 1.00 else 0 end)*100/count(*),2) as poor_query_percentage\n",
    "from Queries\n",
    "group by query_name;\n",
    "\n"
   ]
  },
  {
   "cell_type": "code",
   "execution_count": 6,
   "metadata": {},
   "outputs": [
    {
     "name": "stdout",
     "output_type": "stream",
     "text": [
      "Current date and time: 2025-01-22 00:13:17.483333\n"
     ]
    }
   ],
   "source": [
    "import datetime\n",
    "\n",
    "# Get current date and time\n",
    "current_datetime = datetime.datetime.now()\n",
    "\n",
    "print(\"Current date and time:\", current_datetime)"
   ]
  },
  {
   "cell_type": "code",
   "execution_count": 10,
   "metadata": {},
   "outputs": [
    {
     "data": {
      "text/plain": [
       "'MXXXIV'"
      ]
     },
     "execution_count": 10,
     "metadata": {},
     "output_type": "execute_result"
    }
   ],
   "source": [
    "# https://leetcode.com/problems/integer-to-roman/description/\n",
    "# 12. Integer to Roman\n",
    "# class Solution:\n",
    "#     def intToRoman(self, num: int) -> str:\n",
    "#         r_map = {1:'I', 4:'IV', 5:'V', 9:'IX', 10:'X', 40:'XL', 50:'L', 90:'XC', 100:'C', 400:'CD', 500:'D', 900:'CM', 1000:'M'}\n",
    "#         pairs = list(r_map.items())\n",
    "#         i = 1\n",
    "#         s = ''\n",
    "#         while num > 0:\n",
    "#             n, c = pairs[-1 * i]\n",
    "#             if num >= n:\n",
    "#                 num -= n\n",
    "#                 s += c\n",
    "#             else:\n",
    "#                 i += 1\n",
    "\n",
    "#         return s\n",
    "        \n",
    "# -------------------------------OR---------------------------\n",
    "\n",
    "class Solution:\n",
    "    def intToRoman(self, num: int) -> str:\n",
    "        copynum=num\n",
    "        roman_str=''\n",
    "        mydict = {\n",
    "1000: \"M\",900: \"CM\",500: \"D\",400: \"CD\",100: \"C\",90: \"XC\",50: \"L\",40: \"XL\",10: \"X\",9: \"IX\",5: \"V\",4: \"IV\",1: \"I\"}\n",
    "        for key in mydict:\n",
    "            while(copynum>=key):\n",
    "                roman_str+=mydict[key]\n",
    "                copynum-=key\n",
    "        return roman_str\n",
    "        \n",
    "\n",
    "\n",
    "s=Solution()\n",
    "s.intToRoman(1034)"
   ]
  },
  {
   "cell_type": "code",
   "execution_count": 2,
   "metadata": {},
   "outputs": [
    {
     "name": "stdout",
     "output_type": "stream",
     "text": [
      "Linked List after appending 10, 20, 30:\n",
      "10 -> 20 -> 30 -> 40 -> 50 -> 60 -> 70 -> 80 -> 90 -> 100 -> None\n"
     ]
    }
   ],
   "source": [
    "class ListNode:\n",
    "    def __init__(self, value=0, next=None):\n",
    "        self.value = value  # Node's data\n",
    "        self.next = next    # Reference to the next node in the list\n",
    "\n",
    "\n",
    "class LinkedList:\n",
    "    def __init__(self):\n",
    "        self.head = None  # Start with an empty list (head is None)\n",
    "\n",
    "    # Add a node to the end of the linked list\n",
    "    def append(self, value):\n",
    "        new_node = ListNode(value)\n",
    "        if not self.head:  # If the list is empty, set the new node as the head\n",
    "            self.head = new_node\n",
    "        else:\n",
    "            current = self.head\n",
    "            while current.next:  # Traverse to the end of the list\n",
    "                current = current.next\n",
    "            current.next = new_node  # Attach the new node to the end\n",
    "    \n",
    "    # Print the list values\n",
    "    def print_list(self):\n",
    "        current = self.head\n",
    "        while current:\n",
    "            print(current.value, end=\" -> \")\n",
    "            current = current.next\n",
    "        print(\"None\")  # Indicate the end of the list\n",
    "\n",
    "    def del_list(self,val):\n",
    "        current=self.head\n",
    "        \n",
    "        \n",
    "\n",
    "ll = LinkedList()\n",
    "# Append nodes to the linked list\n",
    "for i in range(1,11):\n",
    "    ll.append(i*10)\n",
    "\n",
    "# Print the list\n",
    "print(\"Linked List after appending 10, 20, 30:\")\n",
    "ll.print_list()"
   ]
  },
  {
   "cell_type": "code",
   "execution_count": null,
   "metadata": {},
   "outputs": [],
   "source": [
    "# https://leetcode.com/problems/count-servers-that-communicate/description/?envType=daily-question&envId=2025-01-23\n",
    "# 1267. Count Servers that Communicate\n",
    "class Solution:\n",
    "    def countServers(self, grid: List[List[int]]) -> int:\n",
    "        m=len(grid)\n",
    "        n=len(grid[0])\n",
    "        myset=set()\n",
    "        for i in range(0,m):\n",
    "            if grid[i].count(1)>=2:\n",
    "                for j in range(0,n):\n",
    "                    if grid[i][j]==1: myset.add((i,j))\n",
    "\n",
    "        for j in range(0,n):\n",
    "            x=[grid[i][j] for i in range(0,m)]\n",
    "            if x.count(1)>=2:\n",
    "                for i in range(0,m):\n",
    "                    if grid[i][j]==1: myset.add((i,j))\n",
    "        return len(myset)\n",
    "\n",
    "        "
   ]
  }
 ],
 "metadata": {
  "kernelspec": {
   "display_name": "Python 3",
   "language": "python",
   "name": "python3"
  },
  "language_info": {
   "codemirror_mode": {
    "name": "ipython",
    "version": 3
   },
   "file_extension": ".py",
   "mimetype": "text/x-python",
   "name": "python",
   "nbconvert_exporter": "python",
   "pygments_lexer": "ipython3",
   "version": "3.13.1"
  }
 },
 "nbformat": 4,
 "nbformat_minor": 2
}
