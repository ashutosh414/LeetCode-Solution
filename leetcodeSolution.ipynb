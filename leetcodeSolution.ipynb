{
 "cells": [
  {
   "cell_type": "code",
   "execution_count": 2,
   "metadata": {},
   "outputs": [
    {
     "name": "stdout",
     "output_type": "stream",
     "text": [
      "Current date and time: 2025-01-21 23:24:21.287125\n"
     ]
    }
   ],
   "source": []
  },
  {
   "cell_type": "code",
   "execution_count": 5,
   "metadata": {},
   "outputs": [
    {
     "name": "stdout",
     "output_type": "stream",
     "text": [
      "True\n"
     ]
    }
   ],
   "source": [
    "# 342. Power of Four\n",
    "# Current date and time: 2025-01-21 23:24:21.287125\n",
    "\n",
    "class Solution:\n",
    "    def isPowerOfFour(self, n: int) -> bool:\n",
    "        copy_n=n\n",
    "        flag=0\n",
    "        if n<1:\n",
    "            flag=1\n",
    "        while(copy_n>1):\n",
    "            if copy_n%4==0:\n",
    "                copy_n/=4\n",
    "            else:\n",
    "                flag=1\n",
    "                break\n",
    "        if (flag):\n",
    "            return False\n",
    "        else:\n",
    "            return True\n",
    "\n",
    "# ----------------------------example----------------------\n",
    "\n",
    "# s=Solution()\n",
    "# print(s.isPowerOfFour(16))"
   ]
  },
  {
   "cell_type": "code",
   "execution_count": null,
   "metadata": {
    "vscode": {
     "languageId": "sql"
    }
   },
   "outputs": [],
   "source": [
    "-- # 1211. Queries Quality and Percentage\n",
    "-- Current date and time: 2025-01-22 00:13:17.483333\n",
    "/* Write your T-SQL query statement below */\n",
    "\n",
    "select query_name,\n",
    "round(avg(rating*1.00/position),2) as quality,\n",
    "round(sum(iif(rating<3,1.00,0))*100/count(*),2) as poor_query_percentage\n",
    "from Queries\n",
    "group by query_name;\n",
    "\n",
    "\n",
    "/*solution 2*/\n",
    "/* Write your T-SQL query statement below */\n",
    "\n",
    "select query_name,\n",
    "round(avg(rating*1.00/position),2) as quality,\n",
    "round(sum(case when rating<3 then 1.00 else 0 end)*100/count(*),2) as poor_query_percentage\n",
    "from Queries\n",
    "group by query_name;\n",
    "\n"
   ]
  },
  {
   "cell_type": "code",
   "execution_count": 6,
   "metadata": {},
   "outputs": [
    {
     "name": "stdout",
     "output_type": "stream",
     "text": [
      "Current date and time: 2025-01-22 00:13:17.483333\n"
     ]
    }
   ],
   "source": [
    "import datetime\n",
    "\n",
    "# Get current date and time\n",
    "current_datetime = datetime.datetime.now()\n",
    "\n",
    "print(\"Current date and time:\", current_datetime)"
   ]
  },
  {
   "cell_type": "code",
   "execution_count": 10,
   "metadata": {},
   "outputs": [
    {
     "data": {
      "text/plain": [
       "'MXXXIV'"
      ]
     },
     "execution_count": 10,
     "metadata": {},
     "output_type": "execute_result"
    }
   ],
   "source": [
    "# https://leetcode.com/problems/integer-to-roman/description/\n",
    "# 12. Integer to Roman\n",
    "# class Solution:\n",
    "#     def intToRoman(self, num: int) -> str:\n",
    "#         r_map = {1:'I', 4:'IV', 5:'V', 9:'IX', 10:'X', 40:'XL', 50:'L', 90:'XC', 100:'C', 400:'CD', 500:'D', 900:'CM', 1000:'M'}\n",
    "#         pairs = list(r_map.items())\n",
    "#         i = 1\n",
    "#         s = ''\n",
    "#         while num > 0:\n",
    "#             n, c = pairs[-1 * i]\n",
    "#             if num >= n:\n",
    "#                 num -= n\n",
    "#                 s += c\n",
    "#             else:\n",
    "#                 i += 1\n",
    "\n",
    "#         return s\n",
    "        \n",
    "# -------------------------------OR---------------------------\n",
    "\n",
    "class Solution:\n",
    "    def intToRoman(self, num: int) -> str:\n",
    "        copynum=num\n",
    "        roman_str=''\n",
    "        mydict = {\n",
    "1000: \"M\",900: \"CM\",500: \"D\",400: \"CD\",100: \"C\",90: \"XC\",50: \"L\",40: \"XL\",10: \"X\",9: \"IX\",5: \"V\",4: \"IV\",1: \"I\"}\n",
    "        for key in mydict:\n",
    "            while(copynum>=key):\n",
    "                roman_str+=mydict[key]\n",
    "                copynum-=key\n",
    "        return roman_str\n",
    "        \n",
    "\n",
    "\n",
    "s=Solution()\n",
    "s.intToRoman(1034)"
   ]
  },
  {
   "cell_type": "code",
   "execution_count": 2,
   "metadata": {},
   "outputs": [
    {
     "name": "stdout",
     "output_type": "stream",
     "text": [
      "Linked List after appending 10, 20, 30:\n",
      "10 -> 20 -> 30 -> 40 -> 50 -> 60 -> 70 -> 80 -> 90 -> 100 -> None\n"
     ]
    }
   ],
   "source": [
    "class ListNode:\n",
    "    def __init__(self, value=0, next=None):\n",
    "        self.value = value  # Node's data\n",
    "        self.next = next    # Reference to the next node in the list\n",
    "\n",
    "\n",
    "class LinkedList:\n",
    "    def __init__(self):\n",
    "        self.head = None  # Start with an empty list (head is None)\n",
    "\n",
    "    # Add a node to the end of the linked list\n",
    "    def append(self, value):\n",
    "        new_node = ListNode(value)\n",
    "        if not self.head:  # If the list is empty, set the new node as the head\n",
    "            self.head = new_node\n",
    "        else:\n",
    "            current = self.head\n",
    "            while current.next:  # Traverse to the end of the list\n",
    "                current = current.next\n",
    "            current.next = new_node  # Attach the new node to the end\n",
    "    \n",
    "    # Print the list values\n",
    "    def print_list(self):\n",
    "        current = self.head\n",
    "        while current:\n",
    "            print(current.value, end=\" -> \")\n",
    "            current = current.next\n",
    "        print(\"None\")  # Indicate the end of the list\n",
    "\n",
    "    def del_list(self,val):\n",
    "        current=self.head\n",
    "        \n",
    "        \n",
    "\n",
    "ll = LinkedList()\n",
    "# Append nodes to the linked list\n",
    "for i in range(1,11):\n",
    "    ll.append(i*10)\n",
    "\n",
    "# Print the list\n",
    "print(\"Linked List after appending 10, 20, 30:\")\n",
    "ll.print_list()"
   ]
  },
  {
   "cell_type": "code",
   "execution_count": null,
   "metadata": {},
   "outputs": [],
   "source": [
    "# https://leetcode.com/problems/count-servers-that-communicate/description/?envType=daily-question&envId=2025-01-23\n",
    "# 1267. Count Servers that Communicate\n",
    "class Solution:\n",
    "    def countServers(self, grid: List[List[int]]) -> int:\n",
    "        m=len(grid)\n",
    "        n=len(grid[0])\n",
    "        myset=set()\n",
    "        for i in range(0,m):\n",
    "            if grid[i].count(1)>=2:\n",
    "                for j in range(0,n):\n",
    "                    if grid[i][j]==1: myset.add((i,j))\n",
    "\n",
    "        for j in range(0,n):\n",
    "            x=[grid[i][j] for i in range(0,m)]\n",
    "            if x.count(1)>=2:\n",
    "                for i in range(0,m):\n",
    "                    if grid[i][j]==1: myset.add((i,j))\n",
    "        return len(myset)\n",
    "\n",
    "        "
   ]
  },
  {
   "cell_type": "code",
   "execution_count": 7,
   "metadata": {},
   "outputs": [
    {
     "name": "stdout",
     "output_type": "stream",
     "text": [
      "[4]\n"
     ]
    }
   ],
   "source": [
    "def eventualSafeNodes( graph):\n",
    "    terminal_nodes=[]\n",
    "    for i,ele in enumerate(graph):\n",
    "        if not ele:\n",
    "            terminal_nodes.append(i)\n",
    "    output=[]\n",
    "    for i,ele in enumerate(graph):\n",
    "        # set(ele).difference(set(terminal_nodes))\n",
    "        if set(ele).difference(set(terminal_nodes)) ==set():\n",
    "            output.append(i)\n",
    "    print(output)\n",
    "graph = [[1,2],[2,3],[5],[0],[5],[],[]]\n",
    "graph = [[1,2,3,4],[1,2],[3,4],[0,4],[]]\n",
    "eventualSafeNodes(graph)"
   ]
  },
  {
   "cell_type": "code",
   "execution_count": 6,
   "metadata": {},
   "outputs": [
    {
     "ename": "NameError",
     "evalue": "name 'null' is not defined",
     "output_type": "error",
     "traceback": [
      "\u001b[1;31m---------------------------------------------------------------------------\u001b[0m",
      "\u001b[1;31mNameError\u001b[0m                                 Traceback (most recent call last)",
      "Cell \u001b[1;32mIn[6], line 3\u001b[0m\n\u001b[0;32m      1\u001b[0m a\u001b[38;5;241m=\u001b[39m[{\u001b[38;5;241m1\u001b[39m, \u001b[38;5;241m2\u001b[39m}, {\u001b[38;5;241m2\u001b[39m, \u001b[38;5;241m3\u001b[39m}, \u001b[38;5;28mset\u001b[39m(), {\u001b[38;5;241m0\u001b[39m}, \u001b[38;5;28mset\u001b[39m(), \u001b[38;5;28mset\u001b[39m(), \u001b[38;5;28mset\u001b[39m()]\n\u001b[0;32m      2\u001b[0m a\u001b[38;5;241m=\u001b[39m[[\u001b[38;5;241m1\u001b[39m,\u001b[38;5;241m2\u001b[39m,\u001b[38;5;241m3\u001b[39m,\u001b[38;5;241m4\u001b[39m],[\u001b[38;5;241m1\u001b[39m,\u001b[38;5;241m2\u001b[39m],[\u001b[38;5;241m3\u001b[39m,\u001b[38;5;241m4\u001b[39m],[\u001b[38;5;241m0\u001b[39m,\u001b[38;5;241m4\u001b[39m],[]]\n\u001b[1;32m----> 3\u001b[0m \u001b[38;5;28;01mif\u001b[39;00m a[\u001b[38;5;241m-\u001b[39m\u001b[38;5;241m1\u001b[39m] \u001b[38;5;129;01mis\u001b[39;00m \u001b[43mnull\u001b[49m:\n\u001b[0;32m      4\u001b[0m     \u001b[38;5;28mprint\u001b[39m(\u001b[38;5;124m'\u001b[39m\u001b[38;5;124mhello\u001b[39m\u001b[38;5;124m'\u001b[39m)\n",
      "\u001b[1;31mNameError\u001b[0m: name 'null' is not defined"
     ]
    }
   ],
   "source": [
    "a=[{1, 2}, {2, 3}, set(), {0}, set(), set(), set()]\n",
    "a=[[1,2,3,4],[1,2],[3,4],[0,4],[]]\n",
    "if a[-1] is null:\n",
    "    print('hello')"
   ]
  },
  {
   "cell_type": "code",
   "execution_count": null,
   "metadata": {},
   "outputs": [],
   "source": [
    "# https://leetcode.com/problems/powx-n/description/\n",
    "# 50. Pow(x, n)\n",
    "\n",
    "class Solution:\n",
    "    def myPow(self, x: float, n: int) -> float:\n",
    "        if n==0: return 1\n",
    "        if n<0:\n",
    "            x=1/x\n",
    "            n=-n\n",
    "        ans=self.myPow(x,n//2)\n",
    "        ans=ans*ans\n",
    "        if n%2!=0 : ans=ans*x\n",
    "        return ans\n",
    "        "
   ]
  },
  {
   "cell_type": "code",
   "execution_count": 1,
   "metadata": {},
   "outputs": [
    {
     "data": {
      "text/plain": [
       "['((()))', '(()())', '(())()', '()(())', '()()()']"
      ]
     },
     "execution_count": 1,
     "metadata": {},
     "output_type": "execute_result"
    }
   ],
   "source": [
    "# https://leetcode.com/problems/generate-parentheses/description/\n",
    "# 22. Generate Parentheses\n",
    "class Solution:\n",
    "    def generateParenthesis(self, n: int):\n",
    "        result = []\n",
    "        \n",
    "        def backtrack(current, open_count, close_count):\n",
    "            # If the current combination is valid and has used n opening and n closing parentheses\n",
    "            if len(current) == 2 * n:\n",
    "                result.append(current)\n",
    "                return\n",
    "            \n",
    "            # Add an opening parenthesis if we haven't used n opening parentheses yet\n",
    "            if open_count < n:\n",
    "                backtrack(current + '(', open_count + 1, close_count)\n",
    "            \n",
    "            # Add a closing parenthesis if we haven't used more than the opening parentheses\n",
    "            if close_count < open_count:\n",
    "                backtrack(current + ')', open_count, close_count + 1)\n",
    "        \n",
    "        # Start the backtracking process\n",
    "        backtrack(\"\", 0, 0)\n",
    "        return result\n",
    "\n",
    "s=Solution()\n",
    "s.generateParenthesis(3)"
   ]
  },
  {
   "cell_type": "code",
   "execution_count": null,
   "metadata": {},
   "outputs": [],
   "source": [
    "# https://leetcode.com/problems/container-with-most-water/description/\n",
    "# 11. Container With Most Water\n",
    "\n",
    "class Solution:\n",
    "    def maxArea(self, height: List[int]) -> int:\n",
    "        max_area,left,right=0,0,len(height)-1\n",
    "\n",
    "        while(left<right):\n",
    "            current_area=min(height[left],height[right])*(right-left)\n",
    "            max_area=max(max_area,current_area)\n",
    "            if height[left]>=height[right]:\n",
    "                right-=1\n",
    "            else:\n",
    "                left+=1\n",
    "        return max_area"
   ]
  },
  {
   "cell_type": "code",
   "execution_count": 21,
   "metadata": {},
   "outputs": [
    {
     "name": "stdout",
     "output_type": "stream",
     "text": [
      "[2, 4]\n"
     ]
    }
   ],
   "source": [
    "# https://leetcode.com/problems/two-sum-ii-input-array-is-sorted/submissions/1522968920/\n",
    "# 167. Two Sum II - Input Array Is Sorted\n",
    "\n",
    "class Solution:\n",
    "    def twoSum(self, numbers, target: int):\n",
    "        left=0\n",
    "        right=len(numbers)-1\n",
    "\n",
    "        while(left<right):\n",
    "            temp_result=numbers[left]+numbers[right]\n",
    "            if temp_result==target:\n",
    "                output=[left+1,right+1]\n",
    "                break\n",
    "            elif temp_result > target:\n",
    "                right-=1\n",
    "            else:\n",
    "                left+=1\n",
    "        return output\n",
    "\n",
    "s=Solution()\n",
    "y=s.twoSum([1,3,3,2,122,],5)\n",
    "print(y)      "
   ]
  },
  {
   "cell_type": "code",
   "execution_count": 19,
   "metadata": {},
   "outputs": [
    {
     "name": "stdout",
     "output_type": "stream",
     "text": [
      "5\n"
     ]
    }
   ],
   "source": [
    "# https://leetcode.com/problems/best-time-to-buy-and-sell-stock/description/\n",
    "# 121. Best Time to Buy and Sell Stock\n",
    "\n",
    "class Solution:\n",
    "    def maxProfit(self,prices):\n",
    "        min_value=float('inf')\n",
    "        max_profit=0\n",
    "\n",
    "        for price in prices:\n",
    "            min_value=min(min_value,price)\n",
    "            max_profit=max(max_profit,price-min_value)\n",
    "        return max_profit\n",
    "            \n",
    "s=Solution()\n",
    "x=[7,1,5,3,6,4]\n",
    "y=s.maxProfit(x)\n",
    "print(y)"
   ]
  },
  {
   "cell_type": "code",
   "execution_count": null,
   "metadata": {},
   "outputs": [],
   "source": [
    "# https://leetcode.com/problems/3sum/description/\n",
    "# 15. 3Sum\n",
    "\n",
    "\n",
    "class Solution:\n",
    "    def threeSum(self, nums: List[int]) -> List[List[int]]:\n",
    "        output=[]\n",
    "        nums.sort()\n",
    "        left=0\n",
    "        n=len(nums)\n",
    "        mid=left+1\n",
    "        for left in range(n-2):\n",
    "            if left>0 and nums[left-1]==nums[left]: continue\n",
    "            \n",
    "            right=n-1\n",
    "            mid=left+1\n",
    "\n",
    "            \n",
    "\n",
    "            while(mid<right):\n",
    "\n",
    "                if nums[left]+nums[mid]+nums[right]==0:\n",
    "                    output.append([nums[left],nums[mid],nums[right]])\n",
    "\n",
    "                    while mid < right and nums[mid] == nums[mid + 1]:\n",
    "                        mid += 1\n",
    "                    while mid < right and nums[right] == nums[right - 1]:\n",
    "                        right -= 1\n",
    "                    mid+=1\n",
    "                    right-=1\n",
    "                elif nums[left]+nums[mid]+nums[right]>0:\n",
    "                    right-=1\n",
    "                else:\n",
    "                    mid+=1\n",
    "            left+=1\n",
    "        return output"
   ]
  },
  {
   "cell_type": "code",
   "execution_count": null,
   "metadata": {},
   "outputs": [],
   "source": [
    "# https://leetcode.com/problems/3sum-closest/submissions/1525192392/\n",
    "# 16. 3Sum Closest\n",
    "\n",
    "class Solution:\n",
    "    def threeSumClosest(self, nums: List[int], target: int) -> int:\n",
    "        nums.sort()\n",
    "        n=len(nums)\n",
    "        closest=float('inf')\n",
    "\n",
    "        for i in range(n-2):\n",
    "            mid=i+1\n",
    "            right=n-1\n",
    "            if i>0 and nums[i]==nums[i-1]: continue\n",
    "\n",
    "            while(mid<right):\n",
    "                total=nums[i]+nums[mid]+nums[right]\n",
    "\n",
    "                if abs(target-total)<abs(closest-target):\n",
    "                    closest=total\n",
    "\n",
    "                if total>target:\n",
    "                    right-=1\n",
    "                else:\n",
    "                    mid+=1\n",
    "        return closest"
   ]
  },
  {
   "cell_type": "code",
   "execution_count": 29,
   "metadata": {},
   "outputs": [
    {
     "data": {
      "text/plain": [
       "4"
      ]
     },
     "execution_count": 29,
     "metadata": {},
     "output_type": "execute_result"
    }
   ],
   "source": [
    "\n",
    "# 259. 3Sum Smaller \n",
    "\n",
    "class Solution:\n",
    "    def threeSumSmaller(self, nums, target):\n",
    "        nums.sort()\n",
    "        n=len(nums)\n",
    "        sumSmaller=0\n",
    "\n",
    "        for i in range(n-2):\n",
    "            mid=i+1\n",
    "            right=n-1\n",
    "            if i>0 and nums[i]==nums[i-1]: continue\n",
    "\n",
    "            while(mid<right):\n",
    "                total=nums[i]+nums[mid]+nums[right]\n",
    "\n",
    "                if total<target:\n",
    "                    sumSmaller+=(right-mid)\n",
    "                    mid+=1\n",
    "                else:\n",
    "                    right-=1\n",
    "\n",
    "        return sumSmaller\n",
    "    \n",
    "s=Solution()\n",
    "s.threeSumSmaller([-2,0,1,1,2,3],2)"
   ]
  },
  {
   "cell_type": "code",
   "execution_count": 33,
   "metadata": {},
   "outputs": [
    {
     "name": "stdout",
     "output_type": "stream",
     "text": [
      "False\n",
      "False\n",
      "False\n"
     ]
    }
   ],
   "source": [
    "# https://leetcode.com/problems/isomorphic-strings/\n",
    "# 205. Isomorphic Strings \n",
    "\n",
    "def isIsomorphic(s: str, t: str) -> bool:\n",
    "    if len(s)!=len(t): return False\n",
    "\n",
    "    s_to_t={}\n",
    "    t_to_s={}\n",
    "\n",
    "    for i in range(len(s)):\n",
    "        char_s=s[i] \n",
    "        char_t=t[i]\n",
    "\n",
    "        if char_s in s_to_t:\n",
    "            if s_to_t[char_s]!=char_t:\n",
    "                return False\n",
    "        else:\n",
    "            s_to_t[char_s]=char_t\n",
    "        \n",
    "        if char_t in t_to_s:\n",
    "            if t_to_s != char_s:\n",
    "                return False\n",
    "        else:\n",
    "            t_to_s[char_t]=char_s\n",
    "    \n",
    "    return True\n",
    "\n",
    "\n",
    "print(isIsomorphic('egg','add'))\n",
    "print(isIsomorphic('foo','bar'))\n",
    "print(isIsomorphic('badc','baba'))"
   ]
  },
  {
   "cell_type": "code",
   "execution_count": null,
   "metadata": {},
   "outputs": [],
   "source": [
    "# https://leetcode.com/problems/maximum-ascending-subarray-sum/?envType=daily-question&envId=2025-02-04\n",
    "# 1800. Maximum Ascending Subarray Sum\n",
    "\n",
    "class Solution:\n",
    "    def maxAscendingSum(self, nums: List[int]) -> int:\n",
    "        max_sum,temp_sum=nums[0],nums[0]\n",
    "        for i in range(1,len(nums)):\n",
    "            if nums[i-1]<nums[i]:\n",
    "                temp_sum+=nums[i]\n",
    "            else:\n",
    "                temp_sum=nums[i]\n",
    "            max_sum=max(max_sum,temp_sum)\n",
    "        return max_sum\n",
    "        "
   ]
  },
  {
   "cell_type": "code",
   "execution_count": null,
   "metadata": {},
   "outputs": [],
   "source": [
    "# https://leetcode.com/problems/check-if-one-string-swap-can-make-strings-equal/description/?envType=daily-question&envId=2025-02-05\n",
    "# 1790. Check if One String Swap Can Make Strings Equal\n",
    "\n",
    "class Solution:\n",
    "    def areAlmostEqual(self, s1: str, s2: str) -> bool:\n",
    "        if s1==s2:\n",
    "            return True\n",
    "        temp,x=[],[]\n",
    "        count=0\n",
    "        for i in range(0,len(s1)):\n",
    "            if s1[i]!=s2[i]:\n",
    "                x.append(i)\n",
    "                count+=1\n",
    "            else:\n",
    "                temp.append(s2[i])\n",
    "        if count>2 or count<2:\n",
    "            return False\n",
    "        if count==2:\n",
    "            temp.insert(x[0],s2[x[1]])\n",
    "            temp.insert(x[1],s2[x[0]])\n",
    "        xx=\"\".join(temp)\n",
    "        if xx==s1:\n",
    "            return True\n",
    "        else:\n",
    "            return False"
   ]
  },
  {
   "cell_type": "code",
   "execution_count": null,
   "metadata": {},
   "outputs": [],
   "source": [
    "# https://leetcode.com/problems/tuple-with-same-product/?envType=daily-question&envId=2025-02-06\n",
    "# 1726. Tuple with Same Product\n",
    "\n",
    "class Solution:\n",
    "    def tupleSameProduct(self, nums: List[int]) -> int:\n",
    "        n=len(nums)\n",
    "        nums.sort()\n",
    "        productList=[]\n",
    "        counter=0\n",
    "        for i in range(0,n):\n",
    "            for j in range(i+1,n):     \n",
    "                product=nums[i]*nums[j]\n",
    "                productList.append(product)\n",
    "        productList.sort()\n",
    "        flag=0\n",
    "        for i in range(1,len(productList)):\n",
    "            if productList[i-1]==productList[i]:\n",
    "                flag+=1\n",
    "            else:\n",
    "                flag=0\n",
    "            counter=counter+8*flag\n",
    "        return counter"
   ]
  },
  {
   "cell_type": "code",
   "execution_count": null,
   "metadata": {},
   "outputs": [],
   "source": [
    "# https://leetcode.com/problems/reverse-string/\n",
    "# 344. Reverse String\n",
    "\n",
    "class Solution:\n",
    "    def reverseString(self, s: List[str]) -> None:\n",
    "        i,l=0,len(s)-1\n",
    "        while(i<l):\n",
    "            s[i],s[l]=s[l],s[i]\n",
    "            i+=1\n",
    "            l-=1\n",
    "        \"\"\"\n",
    "        Do not return anything, modify s in-place instead.\n",
    "        \"\"\"\n",
    "        "
   ]
  },
  {
   "cell_type": "code",
   "execution_count": null,
   "metadata": {},
   "outputs": [],
   "source": [
    "# https://leetcode.com/problems/move-zeroes/\n",
    "# 283. Move Zeroes\n",
    "\n",
    "class Solution:\n",
    "    def moveZeroes(self, nums: List[int]) -> None:\n",
    "        i,count,n=0,0,len(nums)\n",
    "        while(count<n):\n",
    "            if nums[i]==0:\n",
    "                nums.pop(i)\n",
    "                nums.append(0)\n",
    "            else:\n",
    "                i+=1\n",
    "            count+=1\n",
    "        \"\"\"\n",
    "        Do not return anything, modify nums in-place instead.\n",
    "        \"\"\"\n"
   ]
  },
  {
   "cell_type": "code",
   "execution_count": null,
   "metadata": {},
   "outputs": [],
   "source": [
    "# https://leetcode.com/problems/remove-duplicates-from-sorted-array/\n",
    "# 26. Remove Duplicates from Sorted Array\n",
    "class Solution:\n",
    "    def removeDuplicates(self, nums: List[int]) -> int:\n",
    "        n,count,i=len(nums),1,1\n",
    "        while(count<n):\n",
    "            if nums[i]==nums[i-1]:\n",
    "                nums.pop(i)\n",
    "            else:\n",
    "                i+=1\n",
    "            count+=1\n",
    "        return len(nums)\n",
    "\n",
    "        "
   ]
  },
  {
   "cell_type": "code",
   "execution_count": null,
   "metadata": {},
   "outputs": [],
   "source": [
    "# https://leetcode.com/problems/remove-duplicates-from-sorted-array/\n",
    "# 26. Remove Duplicates from Sorted Array\n",
    "class Solution:\n",
    "    def removeDuplicates(self, nums: List[int]) -> int:\n",
    "        if not nums:\n",
    "            return 0\n",
    "        i=0\n",
    "        for j in range(1,len(nums)):\n",
    "            if nums[i]!=nums[j]:\n",
    "                i+=1\n",
    "                nums[i]=nums[j]\n",
    "        return i+1\n",
    "\n",
    "        "
   ]
  },
  {
   "cell_type": "code",
   "execution_count": 7,
   "metadata": {},
   "outputs": [],
   "source": [
    "# https://leetcode.com/problems/contains-duplicate-ii/description/\n",
    "# 219. Contains Duplicate II\n",
    "\n",
    "\n",
    "class Solution:\n",
    "    def containsNearbyDuplicate(self, nums, k):\n",
    "        if len(nums) == len(set(nums)):\n",
    "            return False\n",
    "        n=len(nums)\n",
    "        my_dict={}\n",
    "        for i in range(0,n):\n",
    "            if nums[i] in my_dict:\n",
    "                my_dict[nums[i]].append(i)\n",
    "            else:\n",
    "                my_dict[nums[i]]=[i]\n",
    "        print(my_dict)\n",
    "        for x in my_dict:\n",
    "            y=len(my_dict[x])\n",
    "            if y>1:\n",
    "                for i in range(0,y-1):\n",
    "                    if abs(my_dict[x][i]-my_dict[x][i+1])<=k:\n",
    "                        return True\n",
    "        return False"
   ]
  },
  {
   "cell_type": "code",
   "execution_count": null,
   "metadata": {},
   "outputs": [],
   "source": [
    "# https://leetcode.com/problems/contains-duplicate-ii/description/\n",
    "# 219. Contains Duplicate II\n",
    "\n",
    "class Solution:\n",
    "    def containsNearbyDuplicate(self, nums, k):\n",
    "        my_dict={}\n",
    "        for idx,val in enumerate(nums):\n",
    "            if val in my_dict and idx-my_dict[val]<=k:\n",
    "                return True\n",
    "            else:\n",
    "                my_dict[val]=idx\n",
    "        return False"
   ]
  }
 ],
 "metadata": {
  "kernelspec": {
   "display_name": "Python 3",
   "language": "python",
   "name": "python3"
  },
  "language_info": {
   "codemirror_mode": {
    "name": "ipython",
    "version": 3
   },
   "file_extension": ".py",
   "mimetype": "text/x-python",
   "name": "python",
   "nbconvert_exporter": "python",
   "pygments_lexer": "ipython3",
   "version": "3.13.1"
  }
 },
 "nbformat": 4,
 "nbformat_minor": 2
}
