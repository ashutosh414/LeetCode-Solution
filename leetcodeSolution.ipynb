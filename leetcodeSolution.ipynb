{
 "cells": [
  {
   "cell_type": "code",
   "execution_count": 2,
   "metadata": {},
   "outputs": [
    {
     "name": "stdout",
     "output_type": "stream",
     "text": [
      "Current date and time: 2025-01-21 23:24:21.287125\n"
     ]
    }
   ],
   "source": []
  },
  {
   "cell_type": "code",
   "execution_count": 5,
   "metadata": {},
   "outputs": [
    {
     "name": "stdout",
     "output_type": "stream",
     "text": [
      "True\n"
     ]
    }
   ],
   "source": [
    "# 342. Power of Four\n",
    "# Current date and time: 2025-01-21 23:24:21.287125\n",
    "\n",
    "class Solution:\n",
    "    def isPowerOfFour(self, n: int) -> bool:\n",
    "        copy_n=n\n",
    "        flag=0\n",
    "        if n<1:\n",
    "            flag=1\n",
    "        while(copy_n>1):\n",
    "            if copy_n%4==0:\n",
    "                copy_n/=4\n",
    "            else:\n",
    "                flag=1\n",
    "                break\n",
    "        if (flag):\n",
    "            return False\n",
    "        else:\n",
    "            return True\n",
    "\n",
    "# ----------------------------example----------------------\n",
    "\n",
    "# s=Solution()\n",
    "# print(s.isPowerOfFour(16))"
   ]
  },
  {
   "cell_type": "code",
   "execution_count": null,
   "metadata": {
    "vscode": {
     "languageId": "sql"
    }
   },
   "outputs": [],
   "source": [
    "-- # 1211. Queries Quality and Percentage\n",
    "-- Current date and time: 2025-01-22 00:13:17.483333\n",
    "/* Write your T-SQL query statement below */\n",
    "\n",
    "select query_name,\n",
    "round(avg(rating*1.00/position),2) as quality,\n",
    "round(sum(iif(rating<3,1.00,0))*100/count(*),2) as poor_query_percentage\n",
    "from Queries\n",
    "group by query_name;\n",
    "\n",
    "\n",
    "/*solution 2*/\n",
    "/* Write your T-SQL query statement below */\n",
    "\n",
    "select query_name,\n",
    "round(avg(rating*1.00/position),2) as quality,\n",
    "round(sum(case when rating<3 then 1.00 else 0 end)*100/count(*),2) as poor_query_percentage\n",
    "from Queries\n",
    "group by query_name;\n",
    "\n"
   ]
  },
  {
   "cell_type": "code",
   "execution_count": 6,
   "metadata": {},
   "outputs": [
    {
     "name": "stdout",
     "output_type": "stream",
     "text": [
      "Current date and time: 2025-01-22 00:13:17.483333\n"
     ]
    }
   ],
   "source": [
    "import datetime\n",
    "\n",
    "# Get current date and time\n",
    "current_datetime = datetime.datetime.now()\n",
    "\n",
    "print(\"Current date and time:\", current_datetime)"
   ]
  },
  {
   "cell_type": "code",
   "execution_count": 10,
   "metadata": {},
   "outputs": [
    {
     "data": {
      "text/plain": [
       "'MXXXIV'"
      ]
     },
     "execution_count": 10,
     "metadata": {},
     "output_type": "execute_result"
    }
   ],
   "source": [
    "# https://leetcode.com/problems/integer-to-roman/description/\n",
    "# 12. Integer to Roman\n",
    "# class Solution:\n",
    "#     def intToRoman(self, num: int) -> str:\n",
    "#         r_map = {1:'I', 4:'IV', 5:'V', 9:'IX', 10:'X', 40:'XL', 50:'L', 90:'XC', 100:'C', 400:'CD', 500:'D', 900:'CM', 1000:'M'}\n",
    "#         pairs = list(r_map.items())\n",
    "#         i = 1\n",
    "#         s = ''\n",
    "#         while num > 0:\n",
    "#             n, c = pairs[-1 * i]\n",
    "#             if num >= n:\n",
    "#                 num -= n\n",
    "#                 s += c\n",
    "#             else:\n",
    "#                 i += 1\n",
    "\n",
    "#         return s\n",
    "        \n",
    "# -------------------------------OR---------------------------\n",
    "\n",
    "class Solution:\n",
    "    def intToRoman(self, num: int) -> str:\n",
    "        copynum=num\n",
    "        roman_str=''\n",
    "        mydict = {\n",
    "1000: \"M\",900: \"CM\",500: \"D\",400: \"CD\",100: \"C\",90: \"XC\",50: \"L\",40: \"XL\",10: \"X\",9: \"IX\",5: \"V\",4: \"IV\",1: \"I\"}\n",
    "        for key in mydict:\n",
    "            while(copynum>=key):\n",
    "                roman_str+=mydict[key]\n",
    "                copynum-=key\n",
    "        return roman_str\n",
    "        \n",
    "\n",
    "\n",
    "s=Solution()\n",
    "s.intToRoman(1034)"
   ]
  },
  {
   "cell_type": "code",
   "execution_count": 2,
   "metadata": {},
   "outputs": [
    {
     "name": "stdout",
     "output_type": "stream",
     "text": [
      "Linked List after appending 10, 20, 30:\n",
      "10 -> 20 -> 30 -> 40 -> 50 -> 60 -> 70 -> 80 -> 90 -> 100 -> None\n"
     ]
    }
   ],
   "source": [
    "class ListNode:\n",
    "    def __init__(self, value=0, next=None):\n",
    "        self.value = value  # Node's data\n",
    "        self.next = next    # Reference to the next node in the list\n",
    "\n",
    "\n",
    "class LinkedList:\n",
    "    def __init__(self):\n",
    "        self.head = None  # Start with an empty list (head is None)\n",
    "\n",
    "    # Add a node to the end of the linked list\n",
    "    def append(self, value):\n",
    "        new_node = ListNode(value)\n",
    "        if not self.head:  # If the list is empty, set the new node as the head\n",
    "            self.head = new_node\n",
    "        else:\n",
    "            current = self.head\n",
    "            while current.next:  # Traverse to the end of the list\n",
    "                current = current.next\n",
    "            current.next = new_node  # Attach the new node to the end\n",
    "    \n",
    "    # Print the list values\n",
    "    def print_list(self):\n",
    "        current = self.head\n",
    "        while current:\n",
    "            print(current.value, end=\" -> \")\n",
    "            current = current.next\n",
    "        print(\"None\")  # Indicate the end of the list\n",
    "\n",
    "    def del_list(self,val):\n",
    "        current=self.head\n",
    "        \n",
    "        \n",
    "\n",
    "ll = LinkedList()\n",
    "# Append nodes to the linked list\n",
    "for i in range(1,11):\n",
    "    ll.append(i*10)\n",
    "\n",
    "# Print the list\n",
    "print(\"Linked List after appending 10, 20, 30:\")\n",
    "ll.print_list()"
   ]
  },
  {
   "cell_type": "code",
   "execution_count": null,
   "metadata": {},
   "outputs": [],
   "source": [
    "# https://leetcode.com/problems/count-servers-that-communicate/description/?envType=daily-question&envId=2025-01-23\n",
    "# 1267. Count Servers that Communicate\n",
    "class Solution:\n",
    "    def countServers(self, grid: List[List[int]]) -> int:\n",
    "        m=len(grid)\n",
    "        n=len(grid[0])\n",
    "        myset=set()\n",
    "        for i in range(0,m):\n",
    "            if grid[i].count(1)>=2:\n",
    "                for j in range(0,n):\n",
    "                    if grid[i][j]==1: myset.add((i,j))\n",
    "\n",
    "        for j in range(0,n):\n",
    "            x=[grid[i][j] for i in range(0,m)]\n",
    "            if x.count(1)>=2:\n",
    "                for i in range(0,m):\n",
    "                    if grid[i][j]==1: myset.add((i,j))\n",
    "        return len(myset)\n",
    "\n",
    "        "
   ]
  },
  {
   "cell_type": "code",
   "execution_count": 7,
   "metadata": {},
   "outputs": [
    {
     "name": "stdout",
     "output_type": "stream",
     "text": [
      "[4]\n"
     ]
    }
   ],
   "source": [
    "def eventualSafeNodes( graph):\n",
    "    terminal_nodes=[]\n",
    "    for i,ele in enumerate(graph):\n",
    "        if not ele:\n",
    "            terminal_nodes.append(i)\n",
    "    output=[]\n",
    "    for i,ele in enumerate(graph):\n",
    "        # set(ele).difference(set(terminal_nodes))\n",
    "        if set(ele).difference(set(terminal_nodes)) ==set():\n",
    "            output.append(i)\n",
    "    print(output)\n",
    "graph = [[1,2],[2,3],[5],[0],[5],[],[]]\n",
    "graph = [[1,2,3,4],[1,2],[3,4],[0,4],[]]\n",
    "eventualSafeNodes(graph)"
   ]
  },
  {
   "cell_type": "code",
   "execution_count": 6,
   "metadata": {},
   "outputs": [
    {
     "ename": "NameError",
     "evalue": "name 'null' is not defined",
     "output_type": "error",
     "traceback": [
      "\u001b[1;31m---------------------------------------------------------------------------\u001b[0m",
      "\u001b[1;31mNameError\u001b[0m                                 Traceback (most recent call last)",
      "Cell \u001b[1;32mIn[6], line 3\u001b[0m\n\u001b[0;32m      1\u001b[0m a\u001b[38;5;241m=\u001b[39m[{\u001b[38;5;241m1\u001b[39m, \u001b[38;5;241m2\u001b[39m}, {\u001b[38;5;241m2\u001b[39m, \u001b[38;5;241m3\u001b[39m}, \u001b[38;5;28mset\u001b[39m(), {\u001b[38;5;241m0\u001b[39m}, \u001b[38;5;28mset\u001b[39m(), \u001b[38;5;28mset\u001b[39m(), \u001b[38;5;28mset\u001b[39m()]\n\u001b[0;32m      2\u001b[0m a\u001b[38;5;241m=\u001b[39m[[\u001b[38;5;241m1\u001b[39m,\u001b[38;5;241m2\u001b[39m,\u001b[38;5;241m3\u001b[39m,\u001b[38;5;241m4\u001b[39m],[\u001b[38;5;241m1\u001b[39m,\u001b[38;5;241m2\u001b[39m],[\u001b[38;5;241m3\u001b[39m,\u001b[38;5;241m4\u001b[39m],[\u001b[38;5;241m0\u001b[39m,\u001b[38;5;241m4\u001b[39m],[]]\n\u001b[1;32m----> 3\u001b[0m \u001b[38;5;28;01mif\u001b[39;00m a[\u001b[38;5;241m-\u001b[39m\u001b[38;5;241m1\u001b[39m] \u001b[38;5;129;01mis\u001b[39;00m \u001b[43mnull\u001b[49m:\n\u001b[0;32m      4\u001b[0m     \u001b[38;5;28mprint\u001b[39m(\u001b[38;5;124m'\u001b[39m\u001b[38;5;124mhello\u001b[39m\u001b[38;5;124m'\u001b[39m)\n",
      "\u001b[1;31mNameError\u001b[0m: name 'null' is not defined"
     ]
    }
   ],
   "source": [
    "a=[{1, 2}, {2, 3}, set(), {0}, set(), set(), set()]\n",
    "a=[[1,2,3,4],[1,2],[3,4],[0,4],[]]\n",
    "if a[-1] is null:\n",
    "    print('hello')"
   ]
  },
  {
   "cell_type": "code",
   "execution_count": null,
   "metadata": {},
   "outputs": [],
   "source": [
    "# https://leetcode.com/problems/powx-n/description/\n",
    "# 50. Pow(x, n)\n",
    "\n",
    "class Solution:\n",
    "    def myPow(self, x: float, n: int) -> float:\n",
    "        if n==0: return 1\n",
    "        if n<0:\n",
    "            x=1/x\n",
    "            n=-n\n",
    "        ans=self.myPow(x,n//2)\n",
    "        ans=ans*ans\n",
    "        if n%2!=0 : ans=ans*x\n",
    "        return ans\n",
    "        "
   ]
  },
  {
   "cell_type": "code",
   "execution_count": 2,
   "metadata": {},
   "outputs": [
    {
     "data": {
      "text/plain": [
       "['((()))', '(()())', '(())()', '()(())', '()()()']"
      ]
     },
     "execution_count": 2,
     "metadata": {},
     "output_type": "execute_result"
    }
   ],
   "source": [
    "# https://leetcode.com/problems/generate-parentheses/description/\n",
    "# 22. Generate Parentheses\n",
    "class Solution:\n",
    "    def generateParenthesis(self, n: int):\n",
    "        result = []\n",
    "        \n",
    "        def backtrack(current, open_count, close_count):\n",
    "            # If the current combination is valid and has used n opening and n closing parentheses\n",
    "            if len(current) == 2 * n:\n",
    "                result.append(current)\n",
    "                return\n",
    "            \n",
    "            # Add an opening parenthesis if we haven't used n opening parentheses yet\n",
    "            if open_count < n:\n",
    "                backtrack(current + '(', open_count + 1, close_count)\n",
    "            \n",
    "            # Add a closing parenthesis if we haven't used more than the opening parentheses\n",
    "            if close_count < open_count:\n",
    "                backtrack(current + ')', open_count, close_count + 1)\n",
    "        \n",
    "        # Start the backtracking process\n",
    "        backtrack(\"\", 0, 0)\n",
    "        return result\n",
    "\n",
    "s=Solution()\n",
    "s.generateParenthesis(3)"
   ]
  },
  {
   "cell_type": "code",
   "execution_count": null,
   "metadata": {},
   "outputs": [],
   "source": []
  }
 ],
 "metadata": {
  "kernelspec": {
   "display_name": "Python 3",
   "language": "python",
   "name": "python3"
  },
  "language_info": {
   "codemirror_mode": {
    "name": "ipython",
    "version": 3
   },
   "file_extension": ".py",
   "mimetype": "text/x-python",
   "name": "python",
   "nbconvert_exporter": "python",
   "pygments_lexer": "ipython3",
   "version": "3.13.1"
  }
 },
 "nbformat": 4,
 "nbformat_minor": 2
}
